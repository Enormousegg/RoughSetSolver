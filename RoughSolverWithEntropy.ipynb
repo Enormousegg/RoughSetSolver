{
 "cells": [
  {
   "cell_type": "code",
   "execution_count": 87,
   "metadata": {},
   "outputs": [],
   "source": [
    "import pandas as pd"
   ]
  },
  {
   "cell_type": "code",
   "execution_count": 88,
   "metadata": {},
   "outputs": [],
   "source": [
    "#验证用数据集合\n",
    "\n",
    "example = [[1,2,2,3,1],[2,3,2,1,0],[1,2,2,3,0],\n",
    "           [3,3,1,2,1],[1,3,2,1,0],[3,1,1,2,0],\n",
    "           [3,3,2,2,1],[2,3,2,2,1],[2,3,2,1,0],\n",
    "           [3,3,3,2,1]]\n",
    "data = pd.DataFrame(example,index=['x1','x2','x3','x4','x5','x6','x7','x8','x9','x10'],columns=['c1','c2','c3','c4','D'],dtype=float)"
   ]
  },
  {
   "cell_type": "code",
   "execution_count": 89,
   "metadata": {},
   "outputs": [],
   "source": [
    "def GetDict(index_list,data):\n",
    "    ans = dict()\n",
    "    for index,row in data.iterrows():\n",
    "        key = ''\n",
    "        for x in index_list:\n",
    "            key += str(row['%s'%x])\n",
    "        if(ans.get(key)):\n",
    "            ans[key].append(index)\n",
    "        else:\n",
    "            ans[key]=[index]\n",
    "    return ans  \n",
    "\n",
    "def GetIND(attri,data):\n",
    "    if(len(attri)==0):\n",
    "        index_list = data.columns.to_list()\n",
    "        index_list.pop()\n",
    "        ans = GetDict(index_list,data)\n",
    "    elif(attri[0] == 'D'):\n",
    "        index_list = ['D']\n",
    "        ans = GetDict(index_list,data)\n",
    "    else:\n",
    "        index_list = data.columns.to_list()\n",
    "        index_list.pop()\n",
    "        for x in attri:\n",
    "            index_list.remove(x)\n",
    "        ans = GetDict(index_list,data)\n",
    "    return ans.values()\n",
    "\n",
    "\n",
    "def GetI(ConditionAttribIND,DecisionAttribIND,USize):\n",
    "    ans = 0\n",
    "    for x in ConditionAttribIND:\n",
    "        if(len(x)==1):\n",
    "            continue\n",
    "        csize = len(x)\n",
    "        tmp = 0\n",
    "        for y in DecisionAttribIND:\n",
    "            count = 0\n",
    "            for z in x:\n",
    "                if(z in y):\n",
    "                    count += 1\n",
    "            if(count==0):\n",
    "                continue\n",
    "            tmp += (count/csize)*(1-(count/csize))\n",
    "        ans += csize*csize*tmp/(USize*USize)\n",
    "    return ans  "
   ]
  },
  {
   "cell_type": "code",
   "execution_count": 90,
   "metadata": {},
   "outputs": [],
   "source": [
    "\n",
    "# sampleList = ['C11 C12 C13','C21 C22 C23 C24 C25 C26 C27 C28','C31 C32','','D']\n",
    "sampleList = ['c1','c2','c3','c4','','D']\n",
    "IND = dict()\n",
    "for sample in sampleList:\n",
    "    if(sample == \"NORMAL\"):#默认存在的不可分辨集合\n",
    "        for x in data.columns.to_list():\n",
    "            attri = [x]\n",
    "            IND[x]  = GetIND(attri,data)\n",
    "        attri = []\n",
    "        IND['empty'] = GetIND(attri,data)\n",
    "        attri = ['D']\n",
    "        IND['D'] = GetIND(attri,data)\n",
    "        break\n",
    "    elif(sample==''):\n",
    "        attri = []\n",
    "        IND['empty'] = GetIND(attri,data)\n",
    "    elif(sample!=\"OVER\"):#特殊不可分辨集合\n",
    "        attri = sample.split()\n",
    "        IND[sample]  = GetIND(attri,data)\n",
    "        if(sample!='D'):\n",
    "            index_list = data.columns.to_list()\n",
    "            index_list.pop()\n",
    "            for x in attri:\n",
    "                index_list.remove(x)\n",
    "            tmp = ''\n",
    "            for x in index_list:\n",
    "                tmp =tmp + x\n",
    "            IND[tmp] = GetIND(index_list,data)"
   ]
  },
  {
   "cell_type": "code",
   "execution_count": 91,
   "metadata": {},
   "outputs": [
    {
     "name": "stdout",
     "output_type": "stream",
     "text": [
      "0.14 0.28 0.26 0.14\n",
      "0.17073170731707318 0.34146341463414637 0.3170731707317073 0.17073170731707318\n"
     ]
    }
   ],
   "source": [
    "USize = data.shape[0]\n",
    "\n",
    "IDC = GetI(IND['empty'],IND['D'],USize)\n",
    "IDC1 = GetI(IND['c1'],IND['D'],USize)\n",
    "IDC2 = GetI(IND['c2'],IND['D'],USize)\n",
    "IDC3 = GetI(IND['c3'],IND['D'],USize)\n",
    "IDC4 = GetI(IND['c4'],IND['D'],USize)\n",
    "IDC1N = GetI(IND['c2c3c4'],IND['D'],USize)\n",
    "IDC2N = GetI(IND['c1c3c4'],IND['D'],USize)\n",
    "IDC3N = GetI(IND['c1c2c4'],IND['D'],USize)\n",
    "IDC4N = GetI(IND['c1c2c3'],IND['D'],USize)\n",
    "\n",
    "SIGC1 = IDC1 - IDC + IDC1N\n",
    "SIGC2 = IDC2 - IDC + IDC2N\n",
    "SIGC3 = IDC3 - IDC + IDC3N\n",
    "SIGC4 = IDC4 - IDC + IDC4N\n",
    "\n",
    "print(SIGC1,SIGC2,SIGC3,SIGC4)\n",
    "\n",
    "WC1 = SIGC1/(SIGC1+SIGC2+SIGC3+SIGC4)\n",
    "WC2 = SIGC2/(SIGC1+SIGC2+SIGC3+SIGC4)\n",
    "WC3 = SIGC3/(SIGC1+SIGC2+SIGC3+SIGC4)\n",
    "WC4 = SIGC4/(SIGC1+SIGC2+SIGC3+SIGC4)\n",
    "\n",
    "print(WC1,WC2,WC3,WC4)"
   ]
  },
  {
   "cell_type": "code",
   "execution_count": null,
   "metadata": {},
   "outputs": [],
   "source": []
  }
 ],
 "metadata": {
  "kernelspec": {
   "display_name": "Python 3",
   "language": "python",
   "name": "python3"
  },
  "language_info": {
   "codemirror_mode": {
    "name": "ipython",
    "version": 3
   },
   "file_extension": ".py",
   "mimetype": "text/x-python",
   "name": "python",
   "nbconvert_exporter": "python",
   "pygments_lexer": "ipython3",
   "version": "3.8.5"
  }
 },
 "nbformat": 4,
 "nbformat_minor": 4
}
