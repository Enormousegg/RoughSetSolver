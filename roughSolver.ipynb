{
 "cells": [
  {
   "cell_type": "code",
   "execution_count": 251,
   "metadata": {},
   "outputs": [],
   "source": [
    "import pandas as pd\n",
    "from jenkspy import JenksNaturalBreaks"
   ]
  },
  {
   "cell_type": "code",
   "execution_count": 252,
   "metadata": {},
   "outputs": [],
   "source": [
    "#自然断点处理数据\n",
    "\n",
    "dataD = pd.read_csv('juece.csv',index_col = 0)\n",
    "\n",
    "x = dataD['综合归一化'].to_list()\n",
    "\n",
    "jnb = JenksNaturalBreaks(nb_class=5)\n",
    "jnb.fit(x)\n",
    "NewD = jnb.labels_\n",
    "NewD += 1\n",
    "\n",
    "\n",
    "data = pd.read_csv('相等间隔.csv',index_col = 0)\n",
    "\n",
    "data = data.drop(columns='D')\n",
    "data = data.drop('自然断点',axis=1)\n",
    "\n",
    "data.insert(loc=len(data.columns),column='D',value=NewD)"
   ]
  },
  {
   "cell_type": "code",
   "execution_count": 253,
   "metadata": {},
   "outputs": [],
   "source": [
    "def GetDict(index_list,data):\n",
    "    ans = dict()\n",
    "    for index,row in data.iterrows():\n",
    "        key = ''\n",
    "        for x in index_list:\n",
    "            key += str(row['%s'%x])\n",
    "        if(ans.get(key)):\n",
    "            ans[key].append(index)\n",
    "        else:\n",
    "            ans[key]=[index]\n",
    "    return ans  \n",
    "\n",
    "def GetIND(attri,data):\n",
    "    if(len(attri)==0):\n",
    "        index_list = data.columns.to_list()\n",
    "        index_list.pop()\n",
    "        ans = GetDict(index_list,data)\n",
    "    elif(attri[0] == 'D'):\n",
    "        index_list = ['D']\n",
    "        ans = GetDict(index_list,data)\n",
    "    else:\n",
    "        index_list = data.columns.to_list()\n",
    "        index_list.pop()\n",
    "        for x in attri:\n",
    "            index_list.remove(x)\n",
    "        ans = GetDict(index_list,data)\n",
    "    return ans.values()\n",
    "        \n",
    "def GetPositive(ConditionAttribIND,DecisionAttribIND):\n",
    "    ans = list()\n",
    "    count = 0\n",
    "    for x in ConditionAttribIND:\n",
    "        if(len(x)==1):\n",
    "            ans.extend(x)\n",
    "            count += 1\n",
    "            continue\n",
    "        for y in DecisionAttribIND:\n",
    "            if(set(x)<set(y)):\n",
    "                ans.extend(x)\n",
    "                break  \n",
    "    return ans"
   ]
  },
  {
   "cell_type": "code",
   "execution_count": 254,
   "metadata": {},
   "outputs": [],
   "source": [
    "\n",
    "sampleList = ['C11 C12 C13','C21 C22 C23 C24 C25 C26 C27 C28','C31 C32','','D']\n",
    "IND = dict()\n",
    "for sample in sampleList:\n",
    "    if(sample == \"NORMAL\"):#默认存在的不可分辨集合\n",
    "        for x in data.columns.to_list():\n",
    "            attri = [x]\n",
    "            IND[x]  = GetIND(attri,data)\n",
    "        attri = []\n",
    "        IND['empty'] = GetIND(attri,data)\n",
    "        attri = ['D']\n",
    "        IND['D'] = GetIND(attri,data)\n",
    "        break\n",
    "    elif(sample==''):\n",
    "        attri = []\n",
    "        IND['empty'] = GetIND(attri,data)\n",
    "    elif(sample!=\"OVER\"):#特殊不可分辨集合\n",
    "        attri = sample.split()\n",
    "        IND[sample]  = GetIND(attri,data)"
   ]
  },
  {
   "cell_type": "code",
   "execution_count": 255,
   "metadata": {},
   "outputs": [
    {
     "name": "stdout",
     "output_type": "stream",
     "text": [
      "{'C11 C12 C13': 0.3125, 'C21 C22 C23 C24 C25 C26 C27 C28': 0.6704545454545454, 'C31 C32': 0.017045454545454544, 'empty': 0.0}\n"
     ]
    }
   ],
   "source": [
    "posDict = dict()\n",
    "for key in IND:\n",
    "    if(key!='D'):\n",
    "        posDict[key] = GetPositive(IND[key],IND['D'])\n",
    "\n",
    "USize = data.shape[0]\n",
    "ImportanceDict = dict()\n",
    "for key in posDict:\n",
    "    ImportanceDict[key] = (len(posDict['empty'])-len(posDict[key]))\n",
    "# print(ImportanceDict)\n",
    "\n",
    "WeightDict = dict()\n",
    "SumImportance = 0;\n",
    "for value in ImportanceDict.values():\n",
    "    SumImportance += value\n",
    "for key in ImportanceDict:\n",
    "    WeightDict[key] = ImportanceDict[key]/SumImportance\n",
    "print(WeightDict)"
   ]
  },
  {
   "cell_type": "code",
   "execution_count": 256,
   "metadata": {},
   "outputs": [],
   "source": [
    "#计算二级指标\n",
    "def GetSecond(dataIn,attriList):\n",
    "    data = dataIn.copy()\n",
    "    for index,row in dataIn.iteritems():\n",
    "        if index in attriList:\n",
    "            continue\n",
    "        data = data.drop(index,axis=1)\n",
    "\n",
    "    sampleList = ['NORMAL']\n",
    "    IND = dict()\n",
    "    for sample in sampleList:\n",
    "        if(sample == \"NORMAL\"):#默认存在的不可分辨集合\n",
    "            for x in data.columns.to_list():\n",
    "                attri = [x]\n",
    "                IND[x]  = GetIND(attri,data)\n",
    "            attri = []\n",
    "            IND['empty'] = GetIND(attri,data)\n",
    "            attri = ['D']\n",
    "            IND['D'] = GetIND(attri,data)\n",
    "            break\n",
    "        elif(sample==''):\n",
    "            attri = []\n",
    "            IND['empty'] = GetIND(attri,data)\n",
    "        elif(sample!=\"OVER\"):#特殊不可分辨集合\n",
    "            attri = sample.split()\n",
    "            IND[sample]  = GetIND(attri,data)\n",
    "    posDict = dict()\n",
    "    for key in IND:\n",
    "        if(key!='D'):\n",
    "            posDict[key] = GetPositive(IND[key],IND['D'])\n",
    "\n",
    "    USize = data.shape[0]\n",
    "    ImportanceDict = dict()\n",
    "    for key in posDict:\n",
    "        ImportanceDict[key] = (len(posDict['empty'])-len(posDict[key]))\n",
    "        \n",
    "    WeightDict = dict()\n",
    "    SumImportance = 0;\n",
    "    for value in ImportanceDict.values():\n",
    "        SumImportance += value\n",
    "    for key in ImportanceDict:\n",
    "        WeightDict[key] = ImportanceDict[key]/SumImportance\n",
    "#     print(WeightDict)\n",
    "\n",
    "    return WeightDict"
   ]
  },
  {
   "cell_type": "code",
   "execution_count": 257,
   "metadata": {},
   "outputs": [
    {
     "name": "stdout",
     "output_type": "stream",
     "text": [
      "{'C11': 0.12119932432432431, 'C12': 0.08150337837837837, 'C13': 0.1097972972972973, 'empty': 0.0, 'C21': 0.003853187042842215, 'C22': 0.00770637408568443, 'C23': 0.026972309299895504, 'C24': 0.14064132706374086, 'C25': 0.09054989550679206, 'C26': 0.12330198537095088, 'C27': 0.17146682340647856, 'C28': 0.10596264367816091, 'C31': 0.008040308747855917, 'C32': 0.009005145797598627}\n"
     ]
    }
   ],
   "source": [
    "C1Weight = GetSecond(data,['C11','C12','C13','D'])\n",
    "C2Weight = GetSecond(data,['C21','C22','C23','C24','C25','C26','C27','C28','D'])\n",
    "C3Weight = GetSecond(data,['C31','C32','D'])\n",
    "\n",
    "TotalWeight = dict()\n",
    "\n",
    "#C1\n",
    "for key in C1Weight:\n",
    "    TotalWeight[key] = C1Weight[key]*WeightDict['C11 C12 C13']\n",
    "\n",
    "#C2\n",
    "for key in C2Weight:\n",
    "    TotalWeight[key] = C2Weight[key]*WeightDict['C21 C22 C23 C24 C25 C26 C27 C28']\n",
    "    \n",
    "#C3\n",
    "for key in C3Weight:\n",
    "    TotalWeight[key] = C3Weight[key]*WeightDict['C31 C32']\n",
    "    \n",
    "print(TotalWeight)"
   ]
  },
  {
   "cell_type": "code",
   "execution_count": null,
   "metadata": {},
   "outputs": [],
   "source": []
  }
 ],
 "metadata": {
  "kernelspec": {
   "display_name": "Python 3",
   "language": "python",
   "name": "python3"
  },
  "language_info": {
   "codemirror_mode": {
    "name": "ipython",
    "version": 3
   },
   "file_extension": ".py",
   "mimetype": "text/x-python",
   "name": "python",
   "nbconvert_exporter": "python",
   "pygments_lexer": "ipython3",
   "version": "3.8.5"
  }
 },
 "nbformat": 4,
 "nbformat_minor": 4
}
